{
 "cells": [
  {
   "cell_type": "markdown",
   "id": "65bc65f5",
   "metadata": {},
   "source": [
    "# Project : Human Activity Recognition System\n",
    "\n",
    "### Notebook 1:"
   ]
  },
  {
   "cell_type": "markdown",
   "id": "f4c603dd",
   "metadata": {},
   "source": [
    "### This notebook includes loading, analyzing and processing the data."
   ]
  },
  {
   "cell_type": "markdown",
   "id": "3c037018",
   "metadata": {},
   "source": [
    "### Description of Data chosen:\n",
    "Data is chosen from the below site:\n",
    "\n",
    "https://archive.ics.uci.edu/dataset/240/human+activity+recognition+using+smartphones\n",
    "\n",
    "This database of human activities was created using recordings of 30 participants going about their normal lives while wearing smartphones attached on their waists with inertial sensors. The tAcc-XYZ and tGyro-XYZ 3-axial raw signals from the accelerometer and gyroscope provide the features chosen for this database. These time domain signals (prefixed with 't' to represent time) were recorded at a constant frequency of 50 Hz. After that, they were noise-removal filtered with a median filter and a Butterworth filter of third order with a corner frequency of 20 Hz. Using a second low pass Butterworth filter with a corner frequency of 0.3 Hz, the acceleration signal was then divided into body and gravity acceleration signals (tBodyAcc-XYZ and tGravityAcc-XYZ). \n",
    "\n",
    "The body's linear acceleration and angular velocity were then calculated in time to produce the tBodyAccJerk-XYZ and tBodyGyroJerk-XYZ Jerk signals. Additionally, the magnitude of these three-dimensional signals (tBodyAccMag, tGravityAccMag, tBodyAccJerkMag, tBodyGyroMag, and tBodyGyroJerkMag) was determined using the Euclidean norm.\n",
    "\n",
    "Finally, some of these signals underwent a Fast Fourier Transform (FFT) to produce the signals fBodyAcc-XYZ, fBodyAccJerk-XYZ, fBodyGyro-XYZ, fBodyAccJerkMag, fBodyGyroJerkMag.\n",
    "\n",
    "These signals were used to estimate variables of the feature vector for each pattern:  \n",
    "'-XYZ' is used to denote 3-axial signals in the X, Y and Z directions.\n",
    "\n",
    "The set of variables that were estimated from these signals are: \n",
    "\n",
    "mean(): Mean value;\n",
    "std(): Standard deviation;\n",
    "mad(): Median absolute deviation;\n",
    "max(): Largest value in array;\n",
    "min(): Smallest value in array;\n",
    "sma(): Signal magnitude area;\n",
    "energy(): Energy measure. Sum of the squares divided by the number of values;\n",
    "iqr(): Interquartile range;\n",
    "entropy(): Signal entropy;\n",
    "arCoeff(): Autorregresion coefficients with Burg order equal to 4;\n",
    "correlation(): correlation coefficient between two signals;\n",
    "maxInds(): index of the frequency component with largest magnitude;\n",
    "meanFreq(): Weighted average of the frequency components to obtain a mean frequency;\n",
    "skewness(): skewness of the frequency domain signal;\n",
    "kurtosis(): kurtosis of the frequency domain signal;\n",
    "bandsEnergy(): Energy of a frequency interval within the 64 bins of the FFT of each window;\n",
    "angle(): Angle between two vectors\n",
    "\n",
    "Additional vectors obtained by averaging the signals in a signal window sample. These are used on the angle() variable:\n",
    "\n",
    "gravityMean,\n",
    "tBodyAccMean,\n",
    "tBodyAccJerkMean,\n",
    "tBodyGyroMean,\n",
    "tBodyGyroJerkMean\n",
    "\n",
    "#### Note: \n",
    "The data downloaded from the site provided is already split into train and test sets. I have combined the train and test sets into one single dataset and loaded it here since I believed I needed to demonstrate one of the knowledges I absorbed from the course material, how to split the data.\n",
    "\n",
    "#### Objective of this analysis:\n",
    "The primary goal is to create a predictive model by fitting a logistic regression, an SVM, and a decision tree model, to accurately predict the activity performed from the sensor data provided. I will then measure the performance of my models and identify the best performing model."
   ]
  },
  {
   "cell_type": "code",
   "execution_count": 1,
   "id": "d0fb3a3f",
   "metadata": {},
   "outputs": [],
   "source": [
    "# Importing necessary libraries\n",
    "import pandas as pd\n",
    "from sklearn.model_selection import train_test_split\n",
    "from sklearn import preprocessing "
   ]
  },
  {
   "cell_type": "markdown",
   "id": "a328880f",
   "metadata": {},
   "source": [
    "#### Loading and displaying the data"
   ]
  },
  {
   "cell_type": "code",
   "execution_count": 2,
   "id": "600a076d",
   "metadata": {},
   "outputs": [
    {
     "data": {
      "text/html": [
       "<div>\n",
       "<style scoped>\n",
       "    .dataframe tbody tr th:only-of-type {\n",
       "        vertical-align: middle;\n",
       "    }\n",
       "\n",
       "    .dataframe tbody tr th {\n",
       "        vertical-align: top;\n",
       "    }\n",
       "\n",
       "    .dataframe thead th {\n",
       "        text-align: right;\n",
       "    }\n",
       "</style>\n",
       "<table border=\"1\" class=\"dataframe\">\n",
       "  <thead>\n",
       "    <tr style=\"text-align: right;\">\n",
       "      <th></th>\n",
       "      <th>tBodyAcc-mean()-X</th>\n",
       "      <th>tBodyAcc-mean()-Y</th>\n",
       "      <th>tBodyAcc-mean()-Z</th>\n",
       "      <th>tBodyAcc-std()-X</th>\n",
       "      <th>tBodyAcc-std()-Y</th>\n",
       "      <th>tBodyAcc-std()-Z</th>\n",
       "      <th>tBodyAcc-mad()-X</th>\n",
       "      <th>tBodyAcc-mad()-Y</th>\n",
       "      <th>tBodyAcc-mad()-Z</th>\n",
       "      <th>tBodyAcc-max()-X</th>\n",
       "      <th>...</th>\n",
       "      <th>fBodyBodyGyroJerkMag-skewness()</th>\n",
       "      <th>fBodyBodyGyroJerkMag-kurtosis()</th>\n",
       "      <th>angle(tBodyAccMean,gravity)</th>\n",
       "      <th>angle(tBodyAccJerkMean),gravityMean)</th>\n",
       "      <th>angle(tBodyGyroMean,gravityMean)</th>\n",
       "      <th>angle(tBodyGyroJerkMean,gravityMean)</th>\n",
       "      <th>angle(X,gravityMean)</th>\n",
       "      <th>angle(Y,gravityMean)</th>\n",
       "      <th>angle(Z,gravityMean)</th>\n",
       "      <th>activity Label</th>\n",
       "    </tr>\n",
       "  </thead>\n",
       "  <tbody>\n",
       "    <tr>\n",
       "      <th>0</th>\n",
       "      <td>0.288585</td>\n",
       "      <td>-0.020294</td>\n",
       "      <td>-0.132905</td>\n",
       "      <td>-0.995279</td>\n",
       "      <td>-0.983111</td>\n",
       "      <td>-0.913526</td>\n",
       "      <td>-0.995112</td>\n",
       "      <td>-0.983185</td>\n",
       "      <td>-0.923527</td>\n",
       "      <td>-0.934724</td>\n",
       "      <td>...</td>\n",
       "      <td>-0.298676</td>\n",
       "      <td>-0.710304</td>\n",
       "      <td>-0.112754</td>\n",
       "      <td>0.030400</td>\n",
       "      <td>-0.464761</td>\n",
       "      <td>-0.018446</td>\n",
       "      <td>-0.841247</td>\n",
       "      <td>0.179941</td>\n",
       "      <td>-0.058627</td>\n",
       "      <td>5</td>\n",
       "    </tr>\n",
       "    <tr>\n",
       "      <th>1</th>\n",
       "      <td>0.278419</td>\n",
       "      <td>-0.016411</td>\n",
       "      <td>-0.123520</td>\n",
       "      <td>-0.998245</td>\n",
       "      <td>-0.975300</td>\n",
       "      <td>-0.960322</td>\n",
       "      <td>-0.998807</td>\n",
       "      <td>-0.974914</td>\n",
       "      <td>-0.957686</td>\n",
       "      <td>-0.943068</td>\n",
       "      <td>...</td>\n",
       "      <td>-0.595051</td>\n",
       "      <td>-0.861499</td>\n",
       "      <td>0.053477</td>\n",
       "      <td>-0.007435</td>\n",
       "      <td>-0.732626</td>\n",
       "      <td>0.703511</td>\n",
       "      <td>-0.844788</td>\n",
       "      <td>0.180289</td>\n",
       "      <td>-0.054317</td>\n",
       "      <td>5</td>\n",
       "    </tr>\n",
       "    <tr>\n",
       "      <th>2</th>\n",
       "      <td>0.279653</td>\n",
       "      <td>-0.019467</td>\n",
       "      <td>-0.113462</td>\n",
       "      <td>-0.995380</td>\n",
       "      <td>-0.967187</td>\n",
       "      <td>-0.978944</td>\n",
       "      <td>-0.996520</td>\n",
       "      <td>-0.963668</td>\n",
       "      <td>-0.977469</td>\n",
       "      <td>-0.938692</td>\n",
       "      <td>...</td>\n",
       "      <td>-0.390748</td>\n",
       "      <td>-0.760104</td>\n",
       "      <td>-0.118559</td>\n",
       "      <td>0.177899</td>\n",
       "      <td>0.100699</td>\n",
       "      <td>0.808529</td>\n",
       "      <td>-0.848933</td>\n",
       "      <td>0.180637</td>\n",
       "      <td>-0.049118</td>\n",
       "      <td>5</td>\n",
       "    </tr>\n",
       "    <tr>\n",
       "      <th>3</th>\n",
       "      <td>0.279174</td>\n",
       "      <td>-0.026201</td>\n",
       "      <td>-0.123283</td>\n",
       "      <td>-0.996091</td>\n",
       "      <td>-0.983403</td>\n",
       "      <td>-0.990675</td>\n",
       "      <td>-0.997099</td>\n",
       "      <td>-0.982750</td>\n",
       "      <td>-0.989302</td>\n",
       "      <td>-0.938692</td>\n",
       "      <td>...</td>\n",
       "      <td>-0.117290</td>\n",
       "      <td>-0.482845</td>\n",
       "      <td>-0.036788</td>\n",
       "      <td>-0.012892</td>\n",
       "      <td>0.640011</td>\n",
       "      <td>-0.485366</td>\n",
       "      <td>-0.848649</td>\n",
       "      <td>0.181935</td>\n",
       "      <td>-0.047663</td>\n",
       "      <td>5</td>\n",
       "    </tr>\n",
       "    <tr>\n",
       "      <th>4</th>\n",
       "      <td>0.276629</td>\n",
       "      <td>-0.016570</td>\n",
       "      <td>-0.115362</td>\n",
       "      <td>-0.998139</td>\n",
       "      <td>-0.980817</td>\n",
       "      <td>-0.990482</td>\n",
       "      <td>-0.998321</td>\n",
       "      <td>-0.979672</td>\n",
       "      <td>-0.990441</td>\n",
       "      <td>-0.942469</td>\n",
       "      <td>...</td>\n",
       "      <td>-0.351471</td>\n",
       "      <td>-0.699205</td>\n",
       "      <td>0.123320</td>\n",
       "      <td>0.122542</td>\n",
       "      <td>0.693578</td>\n",
       "      <td>-0.615971</td>\n",
       "      <td>-0.847865</td>\n",
       "      <td>0.185151</td>\n",
       "      <td>-0.043892</td>\n",
       "      <td>5</td>\n",
       "    </tr>\n",
       "  </tbody>\n",
       "</table>\n",
       "<p>5 rows × 562 columns</p>\n",
       "</div>"
      ],
      "text/plain": [
       "   tBodyAcc-mean()-X  tBodyAcc-mean()-Y  tBodyAcc-mean()-Z  tBodyAcc-std()-X  \\\n",
       "0           0.288585          -0.020294          -0.132905         -0.995279   \n",
       "1           0.278419          -0.016411          -0.123520         -0.998245   \n",
       "2           0.279653          -0.019467          -0.113462         -0.995380   \n",
       "3           0.279174          -0.026201          -0.123283         -0.996091   \n",
       "4           0.276629          -0.016570          -0.115362         -0.998139   \n",
       "\n",
       "   tBodyAcc-std()-Y  tBodyAcc-std()-Z  tBodyAcc-mad()-X  tBodyAcc-mad()-Y  \\\n",
       "0         -0.983111         -0.913526         -0.995112         -0.983185   \n",
       "1         -0.975300         -0.960322         -0.998807         -0.974914   \n",
       "2         -0.967187         -0.978944         -0.996520         -0.963668   \n",
       "3         -0.983403         -0.990675         -0.997099         -0.982750   \n",
       "4         -0.980817         -0.990482         -0.998321         -0.979672   \n",
       "\n",
       "   tBodyAcc-mad()-Z  tBodyAcc-max()-X  ...  fBodyBodyGyroJerkMag-skewness()  \\\n",
       "0         -0.923527         -0.934724  ...                        -0.298676   \n",
       "1         -0.957686         -0.943068  ...                        -0.595051   \n",
       "2         -0.977469         -0.938692  ...                        -0.390748   \n",
       "3         -0.989302         -0.938692  ...                        -0.117290   \n",
       "4         -0.990441         -0.942469  ...                        -0.351471   \n",
       "\n",
       "   fBodyBodyGyroJerkMag-kurtosis()  angle(tBodyAccMean,gravity)  \\\n",
       "0                        -0.710304                    -0.112754   \n",
       "1                        -0.861499                     0.053477   \n",
       "2                        -0.760104                    -0.118559   \n",
       "3                        -0.482845                    -0.036788   \n",
       "4                        -0.699205                     0.123320   \n",
       "\n",
       "   angle(tBodyAccJerkMean),gravityMean)  angle(tBodyGyroMean,gravityMean)  \\\n",
       "0                              0.030400                         -0.464761   \n",
       "1                             -0.007435                         -0.732626   \n",
       "2                              0.177899                          0.100699   \n",
       "3                             -0.012892                          0.640011   \n",
       "4                              0.122542                          0.693578   \n",
       "\n",
       "   angle(tBodyGyroJerkMean,gravityMean)  angle(X,gravityMean)  \\\n",
       "0                             -0.018446             -0.841247   \n",
       "1                              0.703511             -0.844788   \n",
       "2                              0.808529             -0.848933   \n",
       "3                             -0.485366             -0.848649   \n",
       "4                             -0.615971             -0.847865   \n",
       "\n",
       "   angle(Y,gravityMean)  angle(Z,gravityMean)  activity Label  \n",
       "0              0.179941             -0.058627               5  \n",
       "1              0.180289             -0.054317               5  \n",
       "2              0.180637             -0.049118               5  \n",
       "3              0.181935             -0.047663               5  \n",
       "4              0.185151             -0.043892               5  \n",
       "\n",
       "[5 rows x 562 columns]"
      ]
     },
     "execution_count": 2,
     "metadata": {},
     "output_type": "execute_result"
    }
   ],
   "source": [
    "df = pd.read_csv('/Users/sunilinus/Downloads/HumanActivity_recg_Data.csv') \n",
    "df.head()"
   ]
  },
  {
   "cell_type": "code",
   "execution_count": 3,
   "id": "6167cd2f",
   "metadata": {},
   "outputs": [
    {
     "name": "stdout",
     "output_type": "stream",
     "text": [
      "Rows=10299 and Cols=562\n"
     ]
    }
   ],
   "source": [
    "# determining the number of rows and columns\n",
    "\n",
    "rows = df.shape[0]\n",
    "cols = df.shape[1]\n",
    "print(f\"Rows={rows} and Cols={cols}\")"
   ]
  },
  {
   "cell_type": "markdown",
   "id": "f9c7bfbb",
   "metadata": {},
   "source": [
    "#### Checking for missing values"
   ]
  },
  {
   "cell_type": "code",
   "execution_count": 4,
   "id": "963e2bec",
   "metadata": {},
   "outputs": [
    {
     "data": {
      "text/plain": [
       "tBodyAcc-mean()-X                       0\n",
       "tBodyAcc-mean()-Y                       0\n",
       "tBodyAcc-mean()-Z                       0\n",
       "tBodyAcc-std()-X                        0\n",
       "tBodyAcc-std()-Y                        0\n",
       "                                       ..\n",
       "angle(tBodyGyroJerkMean,gravityMean)    0\n",
       "angle(X,gravityMean)                    0\n",
       "angle(Y,gravityMean)                    0\n",
       "angle(Z,gravityMean)                    0\n",
       "activity Label                          0\n",
       "Length: 562, dtype: int64"
      ]
     },
     "execution_count": 4,
     "metadata": {},
     "output_type": "execute_result"
    }
   ],
   "source": [
    "df.isnull().sum()"
   ]
  },
  {
   "cell_type": "markdown",
   "id": "5f90aa82",
   "metadata": {},
   "source": [
    "From the above result, we can see that there are no NaN values. Now lets see the data types."
   ]
  },
  {
   "cell_type": "code",
   "execution_count": 5,
   "id": "85f9c158",
   "metadata": {},
   "outputs": [
    {
     "data": {
      "text/plain": [
       "tBodyAcc-mean()-X                       float64\n",
       "tBodyAcc-mean()-Y                       float64\n",
       "tBodyAcc-mean()-Z                       float64\n",
       "tBodyAcc-std()-X                        float64\n",
       "tBodyAcc-std()-Y                        float64\n",
       "                                         ...   \n",
       "angle(tBodyGyroJerkMean,gravityMean)    float64\n",
       "angle(X,gravityMean)                    float64\n",
       "angle(Y,gravityMean)                    float64\n",
       "angle(Z,gravityMean)                    float64\n",
       "activity Label                            int64\n",
       "Length: 562, dtype: object"
      ]
     },
     "execution_count": 5,
     "metadata": {},
     "output_type": "execute_result"
    }
   ],
   "source": [
    "df.dtypes"
   ]
  },
  {
   "cell_type": "markdown",
   "id": "3bfbb6f5",
   "metadata": {},
   "source": [
    "We may infer from the findings above that we do not need to check for unique values or typos because there are no object data types."
   ]
  },
  {
   "cell_type": "markdown",
   "id": "b8a85f08",
   "metadata": {},
   "source": [
    "#### Identifying the target variable:\n",
    "The goal of creating this model is to predict the human activity basing on the sensor data provided. The target feature is labelled as 'activity Label'. For better labelling, updating the target feature name to 'activity_label'.\n",
    "\n",
    "Also, different activities are labelled as follows to maintain the binary nature of the data:\n",
    "\n",
    "1: Walking\n",
    "\n",
    "2: Walking Upstairs\n",
    "\n",
    "3: Walking Downstairs\n",
    "\n",
    "4: Sitting\n",
    "\n",
    "5: Standing\n",
    "\n",
    "6: Laying"
   ]
  },
  {
   "cell_type": "code",
   "execution_count": 6,
   "id": "23e62b27",
   "metadata": {},
   "outputs": [],
   "source": [
    "df.rename(columns={'activity Label': 'activity_label'}, inplace=True)"
   ]
  },
  {
   "cell_type": "markdown",
   "id": "ed7258e0",
   "metadata": {},
   "source": [
    "Now separating the features and target feature:"
   ]
  },
  {
   "cell_type": "code",
   "execution_count": 7,
   "id": "2d83deaf",
   "metadata": {},
   "outputs": [],
   "source": [
    "features = df.drop(columns=['activity_label'])\n",
    "target = df['activity_label']"
   ]
  },
  {
   "cell_type": "markdown",
   "id": "cd9d43e3",
   "metadata": {},
   "source": [
    "### Splitting data to train and test\n",
    "\n",
    "I am splitting the data to 70, 30. 30% of the data will be used for testing, while 70% will be used for training the model given the number of records in the dataset."
   ]
  },
  {
   "cell_type": "code",
   "execution_count": 8,
   "id": "0fe5d89b",
   "metadata": {},
   "outputs": [],
   "source": [
    "X_train, X_test, y_train, y_test = train_test_split(features, target, test_size=0.3, random_state=1)"
   ]
  },
  {
   "cell_type": "markdown",
   "id": "82375e85",
   "metadata": {},
   "source": [
    "Standardizing the training and test data to ensure that different features are on a similar scale."
   ]
  },
  {
   "cell_type": "code",
   "execution_count": 9,
   "id": "76c89b78",
   "metadata": {},
   "outputs": [],
   "source": [
    "scaler = preprocessing.StandardScaler()\n",
    "scaler.fit(X_train)\n",
    "\n",
    "X_train = scaler.transform(X_train) \n",
    "X_test = scaler.transform(X_test)"
   ]
  },
  {
   "cell_type": "markdown",
   "id": "ff7da7bf",
   "metadata": {},
   "source": [
    "Now that the data is preprocessed and ready to be fit, saving the processed data to different csv files."
   ]
  },
  {
   "cell_type": "code",
   "execution_count": 10,
   "id": "0490c3fc",
   "metadata": {},
   "outputs": [],
   "source": [
    "# Converting NumPy arrays to DataFrames\n",
    "X_train_df = pd.DataFrame(X_train)\n",
    "y_train_df = pd.DataFrame(y_train)\n",
    "X_test_df = pd.DataFrame(X_test)\n",
    "y_test_df = pd.DataFrame(y_test)\n",
    "\n",
    "# Saving DataFrames to CSV files\n",
    "X_train_df.to_csv('X_train.csv', index=False)\n",
    "y_train_df.to_csv('y_train.csv', index=False)\n",
    "X_test_df.to_csv('X_test.csv', index=False)\n",
    "y_test_df.to_csv('y_test.csv', index=False)"
   ]
  },
  {
   "cell_type": "markdown",
   "id": "9ce65fac",
   "metadata": {},
   "source": [
    "### Now we have the data pre-processed and ready to be fit."
   ]
  }
 ],
 "metadata": {
  "kernelspec": {
   "display_name": "Python 3 (ipykernel)",
   "language": "python",
   "name": "python3"
  },
  "language_info": {
   "codemirror_mode": {
    "name": "ipython",
    "version": 3
   },
   "file_extension": ".py",
   "mimetype": "text/x-python",
   "name": "python",
   "nbconvert_exporter": "python",
   "pygments_lexer": "ipython3",
   "version": "3.11.4"
  }
 },
 "nbformat": 4,
 "nbformat_minor": 5
}
